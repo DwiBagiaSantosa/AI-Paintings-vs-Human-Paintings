{
  "nbformat": 4,
  "nbformat_minor": 0,
  "metadata": {
    "colab": {
      "provenance": [],
      "gpuType": "T4",
      "authorship_tag": "ABX9TyO+m1qwIIn3704aSLoRR4IG",
      "include_colab_link": true
    },
    "kernelspec": {
      "name": "python3",
      "display_name": "Python 3"
    },
    "language_info": {
      "name": "python"
    },
    "accelerator": "GPU"
  },
  "cells": [
    {
      "cell_type": "markdown",
      "metadata": {
        "id": "view-in-github",
        "colab_type": "text"
      },
      "source": [
        "<a href=\"https://colab.research.google.com/github/DwiBagiaSantosa/AI-Paintings-vs-Human-Paintings/blob/master/notebooks/ModelingScenario6TA.ipynb\" target=\"_parent\"><img src=\"https://colab.research.google.com/assets/colab-badge.svg\" alt=\"Open In Colab\"/></a>"
      ]
    },
    {
      "cell_type": "markdown",
      "source": [
        "# Library yang dibutuhkan"
      ],
      "metadata": {
        "id": "HUqacWT7QMI_"
      }
    },
    {
      "cell_type": "code",
      "source": [
        "import tensorflow as tf\n",
        "import tensorflow_hub as hub\n",
        "from tensorflow.keras.preprocessing.image import ImageDataGenerator\n",
        "from tensorflow.keras.optimizers import Adam\n",
        "\n",
        "import pathlib\n",
        "import numpy as np\n",
        "import matplotlib.pylab as plt"
      ],
      "metadata": {
        "id": "Q8IqrbPnqZw9"
      },
      "execution_count": null,
      "outputs": []
    },
    {
      "cell_type": "code",
      "source": [
        "print(tf. __version__)"
      ],
      "metadata": {
        "id": "irg0Rb5zqbCU",
        "colab": {
          "base_uri": "https://localhost:8080/"
        },
        "outputId": "f9f00346-fe96-4e79-bddd-096ad8ba2905"
      },
      "execution_count": null,
      "outputs": [
        {
          "output_type": "stream",
          "name": "stdout",
          "text": [
            "2.15.0\n"
          ]
        }
      ]
    },
    {
      "cell_type": "markdown",
      "source": [
        "# Download Dataset"
      ],
      "metadata": {
        "id": "TvPjsDMSQySE"
      }
    },
    {
      "cell_type": "code",
      "source": [
        "# download dataset\n",
        "\n",
        "!gdown 'https://drive.google.com/uc?id=1tKGCqhWw49AWo2zNrNYE_YYj914cNlgZ' -O dataset_bersih.zip\n",
        "!unzip -q dataset_bersih.zip\n",
        "!mv /content/content/dataset /content\n",
        "!rm -rf /content/content"
      ],
      "metadata": {
        "id": "gwVLfe1Cqdjm",
        "colab": {
          "base_uri": "https://localhost:8080/"
        },
        "outputId": "3e0d356b-ebf0-4ed7-cdf8-11bcd09a76e8"
      },
      "execution_count": null,
      "outputs": [
        {
          "output_type": "stream",
          "name": "stdout",
          "text": [
            "Downloading...\n",
            "From (original): https://drive.google.com/uc?id=1tKGCqhWw49AWo2zNrNYE_YYj914cNlgZ\n",
            "From (redirected): https://drive.google.com/uc?id=1tKGCqhWw49AWo2zNrNYE_YYj914cNlgZ&confirm=t&uuid=a0b276e0-7de2-474c-81e3-01b3b4a3db10\n",
            "To: /content/dataset_bersih.zip\n",
            "100% 27.8M/27.8M [00:00<00:00, 103MB/s] \n"
          ]
        }
      ]
    },
    {
      "cell_type": "markdown",
      "source": [
        "# Deklarasi path Dataset"
      ],
      "metadata": {
        "id": "qt6an1p4RCOx"
      }
    },
    {
      "cell_type": "code",
      "source": [
        "dataset_dir = \"/content/dataset\"\n",
        "train_dir = \"/content/dataset/train\"\n",
        "valid_dir = \"/content/dataset/val\"\n",
        "test_dir = \"/content/dataset/test\""
      ],
      "metadata": {
        "id": "Uym6qurfqgCx"
      },
      "execution_count": null,
      "outputs": []
    },
    {
      "cell_type": "markdown",
      "source": [
        "# konfigurasi MobileNetV2"
      ],
      "metadata": {
        "id": "tkn6TdNnRkMj"
      }
    },
    {
      "cell_type": "code",
      "source": [
        "handle_base, pixels, FV_SIZE = (\"mobilenet_v2\", 224, 1280)\n",
        "MODULE_HANDLE =\"https://tfhub.dev/google/tf2-preview/{}/feature_vector/4\".format(handle_base)\n",
        "IMAGE_SIZE = (pixels, pixels)\n",
        "\n",
        "print(\"Menggunakan {} dengan input size {} dan output dimension {}\".format(MODULE_HANDLE, IMAGE_SIZE, FV_SIZE))"
      ],
      "metadata": {
        "id": "orQqjN02qhVw",
        "colab": {
          "base_uri": "https://localhost:8080/"
        },
        "outputId": "b1fba6a3-e781-4e9b-cd82-f905f57b7dee"
      },
      "execution_count": null,
      "outputs": [
        {
          "output_type": "stream",
          "name": "stdout",
          "text": [
            "Menggunakan https://tfhub.dev/google/tf2-preview/mobilenet_v2/feature_vector/4 dengan input size (224, 224) dan output dimension 1280\n"
          ]
        }
      ]
    },
    {
      "cell_type": "markdown",
      "source": [
        "# Data Augmentation"
      ],
      "metadata": {
        "id": "88_w_Cb7R7A8"
      }
    },
    {
      "cell_type": "code",
      "source": [
        "BATCH_SIZE = 32"
      ],
      "metadata": {
        "id": "7ONRkFgNqi-P"
      },
      "execution_count": null,
      "outputs": []
    },
    {
      "cell_type": "code",
      "source": [
        "# Datagen\n",
        "train_datagen =  tf.keras.preprocessing.image.ImageDataGenerator(\n",
        "    rescale=1./255,\n",
        "    shear_range=0.2,\n",
        "    zoom_range=0.2,\n",
        "    fill_mode='nearest'\n",
        ")\n",
        "\n",
        "test_datagen = ImageDataGenerator(rescale=1./255)\n",
        "valid_datagen =  ImageDataGenerator(rescale=1./255)\n",
        "\n",
        "# Flow training data generator\n",
        "train_generator = train_datagen.flow_from_directory(\n",
        "    train_dir,\n",
        "    target_size=(224, 224),\n",
        "    batch_size=BATCH_SIZE,\n",
        "    shuffle=True,\n",
        "    class_mode='categorical'\n",
        ")\n",
        "\n",
        "# Flow validation data generator\n",
        "validation_generator = valid_datagen.flow_from_directory(\n",
        "    valid_dir,\n",
        "    target_size=(224, 224),\n",
        "    batch_size=BATCH_SIZE,\n",
        "    shuffle=False,\n",
        "    class_mode='categorical'\n",
        ")\n",
        "\n",
        "# Flow test data generator\n",
        "test_generator = test_datagen.flow_from_directory(\n",
        "    test_dir,\n",
        "    target_size=(224, 224),\n",
        "    batch_size=BATCH_SIZE,\n",
        "    shuffle=False,\n",
        "    class_mode='categorical'\n",
        ")"
      ],
      "metadata": {
        "id": "XOpo7qMyqkTW",
        "colab": {
          "base_uri": "https://localhost:8080/"
        },
        "outputId": "06dbf03c-b3ca-4cf4-8098-cec25296ed0c"
      },
      "execution_count": null,
      "outputs": [
        {
          "output_type": "stream",
          "name": "stdout",
          "text": [
            "Found 800 images belonging to 4 classes.\n",
            "Found 100 images belonging to 4 classes.\n",
            "Found 100 images belonging to 4 classes.\n"
          ]
        }
      ]
    },
    {
      "cell_type": "markdown",
      "source": [
        "# Menyimpan Label ke file label.txt"
      ],
      "metadata": {
        "id": "cmQQQoSgSGFi"
      }
    },
    {
      "cell_type": "code",
      "source": [
        "class_names = list(train_generator.class_indices.keys())\n",
        "\n",
        "with open('label.txt', 'w') as f:\n",
        "    f.write('\\n'.join(class_names))"
      ],
      "metadata": {
        "id": "83I6BRBeqmd2"
      },
      "execution_count": null,
      "outputs": []
    },
    {
      "cell_type": "markdown",
      "source": [
        "# Setup Arsitektur MobileNetV2"
      ],
      "metadata": {
        "id": "zqwTLCN9Svcb"
      }
    },
    {
      "cell_type": "code",
      "source": [
        "feature_extractor = hub.KerasLayer(\n",
        "    MODULE_HANDLE,\n",
        "    input_shape=IMAGE_SIZE + (3,),\n",
        "    output_shape=[FV_SIZE],\n",
        "    trainable=False\n",
        ")"
      ],
      "metadata": {
        "id": "S--2xomJqnic"
      },
      "execution_count": null,
      "outputs": []
    },
    {
      "cell_type": "markdown",
      "source": [
        "# Model yang dibangun"
      ],
      "metadata": {
        "id": "71MAEsDFS4eD"
      }
    },
    {
      "cell_type": "code",
      "source": [
        "# print(\"Buat Model menggunakan\", MODULE_HANDLE)\n",
        "\n",
        "model = tf.keras.Sequential([\n",
        "    feature_extractor,\n",
        "    tf.keras.layers.Dense(512, activation='relu'),\n",
        "    tf.keras.layers.Dropout(0.5),\n",
        "    tf.keras.layers.Dense(len(class_names), activation='softmax')\n",
        "])\n",
        "\n",
        "model.summary()"
      ],
      "metadata": {
        "id": "Iv7rHQWKqpFu",
        "colab": {
          "base_uri": "https://localhost:8080/"
        },
        "outputId": "2f9d0cdc-50c0-449f-aba8-30166716dcdd"
      },
      "execution_count": null,
      "outputs": [
        {
          "output_type": "stream",
          "name": "stdout",
          "text": [
            "Model: \"sequential\"\n",
            "_________________________________________________________________\n",
            " Layer (type)                Output Shape              Param #   \n",
            "=================================================================\n",
            " keras_layer (KerasLayer)    (None, 1280)              2257984   \n",
            "                                                                 \n",
            " dense (Dense)               (None, 512)               655872    \n",
            "                                                                 \n",
            " dropout (Dropout)           (None, 512)               0         \n",
            "                                                                 \n",
            " dense_1 (Dense)             (None, 4)                 2052      \n",
            "                                                                 \n",
            "=================================================================\n",
            "Total params: 2915908 (11.12 MB)\n",
            "Trainable params: 657924 (2.51 MB)\n",
            "Non-trainable params: 2257984 (8.61 MB)\n",
            "_________________________________________________________________\n"
          ]
        }
      ]
    },
    {
      "cell_type": "code",
      "source": [
        "learning_rate = 0.0001\n",
        "\n",
        "optimizer = Adam(learning_rate=learning_rate)"
      ],
      "metadata": {
        "id": "6NqQRO1OLYna"
      },
      "execution_count": null,
      "outputs": []
    },
    {
      "cell_type": "code",
      "source": [
        "model.compile(\n",
        "    optimizer=optimizer,\n",
        "    loss='categorical_crossentropy',\n",
        "    metrics=['accuracy']\n",
        ")"
      ],
      "metadata": {
        "id": "CYUB0latqqgw"
      },
      "execution_count": null,
      "outputs": []
    },
    {
      "cell_type": "markdown",
      "source": [
        "# Training Model"
      ],
      "metadata": {
        "id": "EdBMnR6eTuAk"
      }
    },
    {
      "cell_type": "code",
      "source": [
        "EPOCHS = 10\n",
        "\n",
        "history = model.fit(\n",
        "    train_generator,\n",
        "    epochs=EPOCHS,\n",
        "    validation_data=validation_generator,\n",
        "    verbose=1\n",
        ")"
      ],
      "metadata": {
        "id": "eiyzLWJ9qslU",
        "colab": {
          "base_uri": "https://localhost:8080/"
        },
        "outputId": "422cbbcb-f27c-4689-c4eb-d41e65397865"
      },
      "execution_count": null,
      "outputs": [
        {
          "output_type": "stream",
          "name": "stdout",
          "text": [
            "Epoch 1/10\n",
            "25/25 [==============================] - 28s 408ms/step - loss: 1.0859 - accuracy: 0.5437 - val_loss: 0.4872 - val_accuracy: 0.8200\n",
            "Epoch 2/10\n",
            "25/25 [==============================] - 10s 383ms/step - loss: 0.5104 - accuracy: 0.8037 - val_loss: 0.3169 - val_accuracy: 0.9100\n",
            "Epoch 3/10\n",
            "25/25 [==============================] - 10s 416ms/step - loss: 0.3806 - accuracy: 0.8612 - val_loss: 0.2537 - val_accuracy: 0.9200\n",
            "Epoch 4/10\n",
            "25/25 [==============================] - 12s 466ms/step - loss: 0.3124 - accuracy: 0.8950 - val_loss: 0.2187 - val_accuracy: 0.9300\n",
            "Epoch 5/10\n",
            "25/25 [==============================] - 10s 418ms/step - loss: 0.2409 - accuracy: 0.9200 - val_loss: 0.2084 - val_accuracy: 0.9400\n",
            "Epoch 6/10\n",
            "25/25 [==============================] - 10s 387ms/step - loss: 0.2097 - accuracy: 0.9337 - val_loss: 0.1876 - val_accuracy: 0.9400\n",
            "Epoch 7/10\n",
            "25/25 [==============================] - 10s 368ms/step - loss: 0.1835 - accuracy: 0.9362 - val_loss: 0.1921 - val_accuracy: 0.9400\n",
            "Epoch 8/10\n",
            "25/25 [==============================] - 11s 433ms/step - loss: 0.1498 - accuracy: 0.9488 - val_loss: 0.1759 - val_accuracy: 0.9400\n",
            "Epoch 9/10\n",
            "25/25 [==============================] - 11s 433ms/step - loss: 0.1334 - accuracy: 0.9613 - val_loss: 0.1779 - val_accuracy: 0.9400\n",
            "Epoch 10/10\n",
            "25/25 [==============================] - 10s 380ms/step - loss: 0.1115 - accuracy: 0.9663 - val_loss: 0.1634 - val_accuracy: 0.9500\n"
          ]
        }
      ]
    },
    {
      "cell_type": "markdown",
      "source": [
        "# Hasil Training"
      ],
      "metadata": {
        "id": "E8OPksFjTxTH"
      }
    },
    {
      "cell_type": "code",
      "source": [
        "import matplotlib.pyplot as plt\n",
        "acc = history.history['accuracy']\n",
        "val_acc = history.history['val_accuracy']\n",
        "loss = history.history['loss']\n",
        "val_loss = history.history['val_loss']\n",
        "\n",
        "epochs = range(len(acc))\n",
        "\n",
        "plt.plot(epochs, acc, 'b', label='Training accuracy')\n",
        "plt.plot(epochs, val_acc, 'r', label='Validation accuracy')\n",
        "plt.title('Training dan validation accuracy')\n",
        "plt.legend()\n",
        "plt.figure()\n",
        "plt.plot(epochs, loss, 'b', label='Training Loss')\n",
        "plt.plot(epochs, val_loss, 'r', label='Validation Loss')\n",
        "plt.title('Training dan validation loss')\n",
        "plt.legend()\n",
        "plt.show()"
      ],
      "metadata": {
        "id": "qqInwDNgqu7y",
        "colab": {
          "base_uri": "https://localhost:8080/",
          "height": 887
        },
        "outputId": "f3557275-47a5-4ca2-f78f-29fb1deb2066"
      },
      "execution_count": null,
      "outputs": [
        {
          "output_type": "display_data",
          "data": {
            "text/plain": [
              "<Figure size 640x480 with 1 Axes>"
            ],
            "image/png": "[encoded data removed]"
          },
          "metadata": {}
        },
        {
          "output_type": "display_data",
          "data": {
            "text/plain": [
              "<Figure size 640x480 with 1 Axes>"
            ],
            "image/png": "[encoded data removed]"
          },
          "metadata": {}
        }
      ]
    },
    {
      "cell_type": "code",
      "source": [
        "# Evaluate final score on Validation and Testing data\n",
        "\n",
        "scores = model.evaluate(validation_generator)\n",
        "scores = model.evaluate(test_generator)"
      ],
      "metadata": {
        "id": "TzTxoC56qwbl",
        "colab": {
          "base_uri": "https://localhost:8080/"
        },
        "outputId": "5023d3a3-2ea3-46f6-d9d2-baa55771571d"
      },
      "execution_count": null,
      "outputs": [
        {
          "output_type": "stream",
          "name": "stdout",
          "text": [
            "4/4 [==============================] - 0s 75ms/step - loss: 0.1634 - accuracy: 0.9500\n",
            "4/4 [==============================] - 0s 57ms/step - loss: 0.1696 - accuracy: 0.9300\n"
          ]
        }
      ]
    },
    {
      "cell_type": "markdown",
      "source": [
        "## Hasil :\n",
        "- Training : 96,63 %\n",
        "- Validation : 95 %\n",
        "- Test : 93 %"
      ],
      "metadata": {
        "id": "6I5Le9zqUJEL"
      }
    },
    {
      "cell_type": "markdown",
      "source": [
        "# Save Model Ke Gdrive"
      ],
      "metadata": {
        "id": "rYMZX4N3T5Sf"
      }
    },
    {
      "cell_type": "code",
      "source": [
        "model.save('GAN_Counter_Scenario6.h5')\n",
        "model.save('GAN_Counter_Scenario6')\n",
        "!zip -r 'GAN_Counter_Scenario6.zip' 'GAN_Counter_Scenario6'"
      ],
      "metadata": {
        "id": "4nAvIZUHqxxN",
        "colab": {
          "base_uri": "https://localhost:8080/"
        },
        "outputId": "42893d5f-cd2d-4d8f-9853-b308ffa6740a"
      },
      "execution_count": null,
      "outputs": [
        {
          "output_type": "stream",
          "name": "stderr",
          "text": [
            "/usr/local/lib/python3.10/dist-packages/keras/src/engine/training.py:3103: UserWarning: You are saving your model as an HDF5 file via `model.save()`. This file format is considered legacy. We recommend using instead the native Keras format, e.g. `model.save('my_model.keras')`.\n",
            "  saving_api.save_model(\n"
          ]
        },
        {
          "output_type": "stream",
          "name": "stdout",
          "text": [
            "  adding: GAN_Counter_Scenario6/ (stored 0%)\n",
            "  adding: GAN_Counter_Scenario6/fingerprint.pb (stored 0%)\n",
            "  adding: GAN_Counter_Scenario6/saved_model.pb (deflated 91%)\n",
            "  adding: GAN_Counter_Scenario6/assets/ (stored 0%)\n",
            "  adding: GAN_Counter_Scenario6/keras_metadata.pb (deflated 85%)\n",
            "  adding: GAN_Counter_Scenario6/variables/ (stored 0%)\n",
            "  adding: GAN_Counter_Scenario6/variables/variables.data-00000-of-00001 (deflated 7%)\n",
            "  adding: GAN_Counter_Scenario6/variables/variables.index (deflated 78%)\n"
          ]
        }
      ]
    },
    {
      "cell_type": "markdown",
      "source": [
        "## Convert model menjadi TFLite"
      ],
      "metadata": {
        "id": "BVuUyyoYPuZ2"
      }
    },
    {
      "cell_type": "code",
      "source": [
        "converter = tf.lite.TFLiteConverter.from_saved_model('GAN_Counter_Scenario6')\n",
        "\n",
        "# Set the optimizations\n",
        "converter.optimizations = [tf.lite.Optimize.DEFAULT]\n",
        "converter.target_spec.supported_ops = [tf.lite.OpsSet.TFLITE_BUILTINS]\n",
        "\n",
        "# Invoke the converter to generate the TFLite model\n",
        "tflite_model = converter.convert()\n",
        "\n",
        "tflite_model_file = pathlib.Path('./GAN_Counter_Scenario6.tflite')\n",
        "\n",
        "print(\"TFLite model conversion and saving complete.\")\n",
        "\n",
        "bytes = tflite_model_file.write_bytes(tflite_model)\n",
        "megabytes = bytes / (1024 * 1024)\n",
        "print(f\"Model size setelah menjadi TFLite : {megabytes:.2f} Mb\")"
      ],
      "metadata": {
        "colab": {
          "base_uri": "https://localhost:8080/"
        },
        "id": "zVANEOmvPvFo",
        "outputId": "f8e6aa39-d641-4c9e-aa05-7756fe17218d"
      },
      "execution_count": null,
      "outputs": [
        {
          "output_type": "stream",
          "name": "stdout",
          "text": [
            "TFLite model conversion and saving complete.\n",
            "Model size setelah menjadi TFLite : 3.02 Mb\n"
          ]
        }
      ]
    },
    {
      "cell_type": "code",
      "source": [
        "from google.colab import drive\n",
        "\n",
        "drive.mount(\"/content/drive\", force_remount=True)"
      ],
      "metadata": {
        "id": "9_R-snTFqy-y",
        "colab": {
          "base_uri": "https://localhost:8080/"
        },
        "outputId": "9ad0e0d5-b70d-4cfe-ffd4-221e6b0cfe7b"
      },
      "execution_count": null,
      "outputs": [
        {
          "output_type": "stream",
          "name": "stdout",
          "text": [
            "Mounted at /content/drive\n"
          ]
        }
      ]
    },
    {
      "cell_type": "code",
      "source": [
        "# Copy Model ke gdrive\n",
        "\n",
        "!cp -r \"GAN_Counter_Scenario6.h5\" \"drive/MyDrive/Tugas Akhir or Skripsian/Model/\"\n",
        "!cp -r \"GAN_Counter_Scenario6.tflite\" \"drive/MyDrive/Tugas Akhir or Skripsian/Model/\""
      ],
      "metadata": {
        "id": "Z5xU0H9Pq0X6"
      },
      "execution_count": null,
      "outputs": []
    },
    {
      "cell_type": "code",
      "source": [
        "# Cek dataset yang sudah tersimpan\n",
        "\n",
        "!ls \"drive/MyDrive/Tugas Akhir or Skripsian/Model/\""
      ],
      "metadata": {
        "id": "nLtTtcD1q1kx",
        "colab": {
          "base_uri": "https://localhost:8080/"
        },
        "outputId": "cddd96e5-2db9-42bb-b7db-bd5ef6f283b8"
      },
      "execution_count": null,
      "outputs": [
        {
          "output_type": "stream",
          "name": "stdout",
          "text": [
            "GAN_Counter.h5\t\t      GAN_Counter_Scenario3.tflite  GAN_Counter_Scenario6.h5\n",
            "GAN_Counter_Scenario1.tflite  GAN_Counter_Scenario4.h5\t    GAN_Counter_Scenario6.tflite\n",
            "GAN_Counter_Scenario2.h5      GAN_Counter_Scenario4.tflite  GAN_Counter_Test.h5\n",
            "GAN_Counter_Scenario2.tflite  GAN_Counter_Scenario5.h5\t    label.txt\n",
            "GAN_Counter_Scenario3.h5      GAN_Counter_Scenario5.tflite\n"
          ]
        }
      ]
    },
    {
      "cell_type": "markdown",
      "source": [
        "# Evaluasi"
      ],
      "metadata": {
        "id": "d9FSlLgcQJaR"
      }
    },
    {
      "cell_type": "code",
      "source": [
        "from sklearn.metrics import classification_report, confusion_matrix\n",
        "\n",
        "Y_pred = model.predict(test_generator)\n",
        "y_pred = np.argmax(Y_pred, axis=1)\n",
        "\n",
        "cm = confusion_matrix(test_generator.classes, y_pred)\n",
        "\n",
        "print('Classification Report')\n",
        "print(classification_report(test_generator.classes, y_pred, target_names=class_names))"
      ],
      "metadata": {
        "id": "s36NBChrQQt8",
        "outputId": "2337a157-848b-4508-dda4-08a9cb2ea3ca",
        "colab": {
          "base_uri": "https://localhost:8080/"
        }
      },
      "execution_count": null,
      "outputs": [
        {
          "output_type": "stream",
          "name": "stdout",
          "text": [
            "4/4 [==============================] - 2s 179ms/step\n",
            "Classification Report\n",
            "                        precision    recall  f1-score   support\n",
            "\n",
            "Landscape_AI_Generated       0.96      0.96      0.96        25\n",
            "  Landscape_Human_Made       0.96      0.96      0.96        25\n",
            "  Potrait_AI_Generated       0.88      0.92      0.90        25\n",
            "    Potrait_Human_Made       0.92      0.88      0.90        25\n",
            "\n",
            "              accuracy                           0.93       100\n",
            "             macro avg       0.93      0.93      0.93       100\n",
            "          weighted avg       0.93      0.93      0.93       100\n",
            "\n"
          ]
        }
      ]
    },
    {
      "cell_type": "code",
      "source": [
        "import seaborn as sns\n",
        "\n",
        "plt.figure(figsize=(12,12))\n",
        "ax = sns.heatmap(cm/np.sum(cm), annot=True, fmt='.1%', cmap=\"Greens\", xticklabels=class_names, yticklabels=class_names)\n",
        "\n",
        "plt.show()"
      ],
      "metadata": {
        "id": "X7usBzPCQSNm",
        "outputId": "28bfe20a-815d-40da-84a1-7faecbbb2528",
        "colab": {
          "base_uri": "https://localhost:8080/",
          "height": 984
        }
      },
      "execution_count": null,
      "outputs": [
        {
          "output_type": "display_data",
          "data": {
            "text/plain": [
              "<Figure size 1200x1200 with 2 Axes>"
            ],
            "image/png": "[encoded data removed]"
          },
          "metadata": {}
        }
      ]
    }
  ]
}